{
 "cells": [
  {
   "cell_type": "markdown",
   "metadata": {
    "colab_type": "text",
    "id": "view-in-github"
   },
   "source": [
    "![](https://i.imgur.com/YX6UATs.png)"
   ]
  },
  {
   "cell_type": "markdown",
   "metadata": {
    "colab_type": "text",
    "id": "a4-FLDRof6Jv"
   },
   "source": [
    "### Desafio 10\n",
    "\n",
    "Dada uma lista, divida-a em 3 partes iguais e reverta a ordem de cada lista.\n",
    "\n",
    "**Exemplo:** \n",
    "\n",
    "Entrada: \\\n",
    "sampleList = [11, 45, 8, 23, 14, 12, 78, 45, 89]\n",
    "\n",
    "Saída: \\\n",
    "Parte 1 [8, 45, 11] \\\n",
    "Parte 2 [12, 14, 23] \\\n",
    "Parte 3 [89, 45, 78] "
   ]
  },
  {
   "cell_type": "code",
   "execution_count": 1,
   "metadata": {
    "colab": {},
    "colab_type": "code",
    "id": "IJ70pUjnf6Jw"
   },
   "outputs": [
    {
     "name": "stdout",
     "output_type": "stream",
     "text": [
      "Parte 1: [8, 45, 11]\n",
      "Parte 2: [12, 14, 23]\n",
      "Parte 3: [89, 45, 78]\n"
     ]
    }
   ],
   "source": [
    "sampleList = [11, 45, 8, 23, 14, 12, 78, 45, 89]\n",
    "l1 = []\n",
    "l2 = []\n",
    "l3 = []\n",
    "qtde = len(sampleList) / 3\n",
    "if qtde.is_integer():\n",
    "  for elem in sampleList:\n",
    "      if len(l1) < qtde:\n",
    "          l1.append(elem)\n",
    "          parte_1 = reversed(l1)\n",
    "      elif len(l2) < qtde:\n",
    "          l2.append(elem)\n",
    "          parte_2 = reversed(l2)\n",
    "      else:\n",
    "          if len(l3) < qtde:\n",
    "              l3.append(elem)\n",
    "              parte_3 = reversed(l3)\n",
    "  print(f'Parte 1: {list(parte_1)}'\n",
    "        f'\\nParte 2: {list(parte_2)}'\n",
    "        f'\\nParte 3: {list(parte_3)}')\n",
    "else:\n",
    "  print('A lista não pode ser dividida em 3 partes iguais!')"
   ]
  },
  {
   "cell_type": "code",
   "execution_count": 0,
   "metadata": {
    "colab": {},
    "colab_type": "code",
    "id": "pNrXNVqf8Wc1"
   },
   "outputs": [],
   "source": []
  }
 ],
 "metadata": {
  "anaconda-cloud": {},
  "colab": {
   "include_colab_link": true,
   "name": "Desafio 10.ipynb",
   "provenance": []
  },
  "kernelspec": {
   "display_name": "Python 3 (ipykernel)",
   "language": "python",
   "name": "python3"
  },
  "language_info": {
   "codemirror_mode": {
    "name": "ipython",
    "version": 3
   },
   "file_extension": ".py",
   "mimetype": "text/x-python",
   "name": "python",
   "nbconvert_exporter": "python",
   "pygments_lexer": "ipython3",
   "version": "3.9.12"
  }
 },
 "nbformat": 4,
 "nbformat_minor": 1
}
